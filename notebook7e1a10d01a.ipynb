{
 "cells": [
  {
   "cell_type": "markdown",
   "id": "619dcb48",
   "metadata": {
    "papermill": {
     "duration": 0.006224,
     "end_time": "2025-02-08T12:58:19.157400",
     "exception": false,
     "start_time": "2025-02-08T12:58:19.151176",
     "status": "completed"
    },
    "tags": []
   },
   "source": [
    "## Import library"
   ]
  },
  {
   "cell_type": "code",
   "execution_count": 1,
   "id": "7f8c8f8c",
   "metadata": {
    "execution": {
     "iopub.execute_input": "2025-02-08T12:58:19.169555Z",
     "iopub.status.busy": "2025-02-08T12:58:19.169233Z",
     "iopub.status.idle": "2025-02-08T12:58:33.658265Z",
     "shell.execute_reply": "2025-02-08T12:58:33.657413Z"
    },
    "papermill": {
     "duration": 14.496648,
     "end_time": "2025-02-08T12:58:33.659558",
     "exception": false,
     "start_time": "2025-02-08T12:58:19.162910",
     "status": "completed"
    },
    "tags": []
   },
   "outputs": [
    {
     "name": "stdout",
     "output_type": "stream",
     "text": [
      "[nltk_data] Downloading package punkt to /usr/share/nltk_data...\n",
      "[nltk_data]   Package punkt is already up-to-date!\n",
      "[nltk_data] Downloading package wordnet to /usr/share/nltk_data...\n",
      "[nltk_data]   Package wordnet is already up-to-date!\n",
      "[nltk_data] Downloading package punkt_tab to /usr/share/nltk_data...\n",
      "[nltk_data]   Unzipping tokenizers/punkt_tab.zip.\n"
     ]
    },
    {
     "data": {
      "text/plain": [
       "True"
      ]
     },
     "execution_count": 1,
     "metadata": {},
     "output_type": "execute_result"
    }
   ],
   "source": [
    "import tensorflow as tf\n",
    "from tensorflow.keras.layers import Dense, LSTM, Bidirectional, GRU, Embedding, BatchNormalization, Dropout, Conv1D\n",
    "import numpy as np\n",
    "import pandas as pd\n",
    "import sklearn\n",
    "from sklearn.model_selection import train_test_split\n",
    "import os\n",
    "import re\n",
    "import matplotlib.pyplot as plt\n",
    "import string\n",
    "import nltk\n",
    "nltk.download(\"punkt\")\n",
    "nltk.download(\"wordnet\")\n",
    "nltk.download(\"punkt_tab\")"
   ]
  },
  {
   "cell_type": "markdown",
   "id": "46ce624d",
   "metadata": {
    "papermill": {
     "duration": 0.005546,
     "end_time": "2025-02-08T12:58:33.671355",
     "exception": false,
     "start_time": "2025-02-08T12:58:33.665809",
     "status": "completed"
    },
    "tags": []
   },
   "source": [
    "## Get data"
   ]
  },
  {
   "cell_type": "code",
   "execution_count": 2,
   "id": "8d005ad5",
   "metadata": {
    "execution": {
     "iopub.execute_input": "2025-02-08T12:58:33.683499Z",
     "iopub.status.busy": "2025-02-08T12:58:33.683082Z",
     "iopub.status.idle": "2025-02-08T12:58:40.256914Z",
     "shell.execute_reply": "2025-02-08T12:58:40.255987Z"
    },
    "papermill": {
     "duration": 6.581524,
     "end_time": "2025-02-08T12:58:40.258363",
     "exception": false,
     "start_time": "2025-02-08T12:58:33.676839",
     "status": "completed"
    },
    "tags": []
   },
   "outputs": [
    {
     "data": {
      "text/html": [
       "<div>\n",
       "<style scoped>\n",
       "    .dataframe tbody tr th:only-of-type {\n",
       "        vertical-align: middle;\n",
       "    }\n",
       "\n",
       "    .dataframe tbody tr th {\n",
       "        vertical-align: top;\n",
       "    }\n",
       "\n",
       "    .dataframe thead th {\n",
       "        text-align: right;\n",
       "    }\n",
       "</style>\n",
       "<table border=\"1\" class=\"dataframe\">\n",
       "  <thead>\n",
       "    <tr style=\"text-align: right;\">\n",
       "      <th></th>\n",
       "      <th>0</th>\n",
       "      <th>1</th>\n",
       "      <th>2</th>\n",
       "      <th>3</th>\n",
       "      <th>4</th>\n",
       "      <th>5</th>\n",
       "    </tr>\n",
       "  </thead>\n",
       "  <tbody>\n",
       "    <tr>\n",
       "      <th>0</th>\n",
       "      <td>0</td>\n",
       "      <td>1467810369</td>\n",
       "      <td>Mon Apr 06 22:19:45 PDT 2009</td>\n",
       "      <td>NO_QUERY</td>\n",
       "      <td>_TheSpecialOne_</td>\n",
       "      <td>@switchfoot http://twitpic.com/2y1zl - Awww, t...</td>\n",
       "    </tr>\n",
       "    <tr>\n",
       "      <th>1</th>\n",
       "      <td>0</td>\n",
       "      <td>1467810672</td>\n",
       "      <td>Mon Apr 06 22:19:49 PDT 2009</td>\n",
       "      <td>NO_QUERY</td>\n",
       "      <td>scotthamilton</td>\n",
       "      <td>is upset that he can't update his Facebook by ...</td>\n",
       "    </tr>\n",
       "    <tr>\n",
       "      <th>2</th>\n",
       "      <td>0</td>\n",
       "      <td>1467810917</td>\n",
       "      <td>Mon Apr 06 22:19:53 PDT 2009</td>\n",
       "      <td>NO_QUERY</td>\n",
       "      <td>mattycus</td>\n",
       "      <td>@Kenichan I dived many times for the ball. Man...</td>\n",
       "    </tr>\n",
       "    <tr>\n",
       "      <th>3</th>\n",
       "      <td>0</td>\n",
       "      <td>1467811184</td>\n",
       "      <td>Mon Apr 06 22:19:57 PDT 2009</td>\n",
       "      <td>NO_QUERY</td>\n",
       "      <td>ElleCTF</td>\n",
       "      <td>my whole body feels itchy and like its on fire</td>\n",
       "    </tr>\n",
       "    <tr>\n",
       "      <th>4</th>\n",
       "      <td>0</td>\n",
       "      <td>1467811193</td>\n",
       "      <td>Mon Apr 06 22:19:57 PDT 2009</td>\n",
       "      <td>NO_QUERY</td>\n",
       "      <td>Karoli</td>\n",
       "      <td>@nationwideclass no, it's not behaving at all....</td>\n",
       "    </tr>\n",
       "  </tbody>\n",
       "</table>\n",
       "</div>"
      ],
      "text/plain": [
       "   0           1                             2         3                4  \\\n",
       "0  0  1467810369  Mon Apr 06 22:19:45 PDT 2009  NO_QUERY  _TheSpecialOne_   \n",
       "1  0  1467810672  Mon Apr 06 22:19:49 PDT 2009  NO_QUERY    scotthamilton   \n",
       "2  0  1467810917  Mon Apr 06 22:19:53 PDT 2009  NO_QUERY         mattycus   \n",
       "3  0  1467811184  Mon Apr 06 22:19:57 PDT 2009  NO_QUERY          ElleCTF   \n",
       "4  0  1467811193  Mon Apr 06 22:19:57 PDT 2009  NO_QUERY           Karoli   \n",
       "\n",
       "                                                   5  \n",
       "0  @switchfoot http://twitpic.com/2y1zl - Awww, t...  \n",
       "1  is upset that he can't update his Facebook by ...  \n",
       "2  @Kenichan I dived many times for the ball. Man...  \n",
       "3    my whole body feels itchy and like its on fire   \n",
       "4  @nationwideclass no, it's not behaving at all....  "
      ]
     },
     "execution_count": 2,
     "metadata": {},
     "output_type": "execute_result"
    }
   ],
   "source": [
    "df = pd.read_csv(\"/kaggle/input/sentiment140/training.1600000.processed.noemoticon.csv\", encoding = \"latin\", header = None)\n",
    "df.head()"
   ]
  },
  {
   "cell_type": "code",
   "execution_count": 3,
   "id": "3541889c",
   "metadata": {
    "execution": {
     "iopub.execute_input": "2025-02-08T12:58:40.272213Z",
     "iopub.status.busy": "2025-02-08T12:58:40.271985Z",
     "iopub.status.idle": "2025-02-08T12:58:40.280123Z",
     "shell.execute_reply": "2025-02-08T12:58:40.279337Z"
    },
    "papermill": {
     "duration": 0.016278,
     "end_time": "2025-02-08T12:58:40.281493",
     "exception": false,
     "start_time": "2025-02-08T12:58:40.265215",
     "status": "completed"
    },
    "tags": []
   },
   "outputs": [
    {
     "data": {
      "text/html": [
       "<div>\n",
       "<style scoped>\n",
       "    .dataframe tbody tr th:only-of-type {\n",
       "        vertical-align: middle;\n",
       "    }\n",
       "\n",
       "    .dataframe tbody tr th {\n",
       "        vertical-align: top;\n",
       "    }\n",
       "\n",
       "    .dataframe thead th {\n",
       "        text-align: right;\n",
       "    }\n",
       "</style>\n",
       "<table border=\"1\" class=\"dataframe\">\n",
       "  <thead>\n",
       "    <tr style=\"text-align: right;\">\n",
       "      <th></th>\n",
       "      <th>sentiment</th>\n",
       "      <th>id</th>\n",
       "      <th>data</th>\n",
       "      <th>query</th>\n",
       "      <th>user_id</th>\n",
       "      <th>text</th>\n",
       "    </tr>\n",
       "  </thead>\n",
       "  <tbody>\n",
       "    <tr>\n",
       "      <th>0</th>\n",
       "      <td>0</td>\n",
       "      <td>1467810369</td>\n",
       "      <td>Mon Apr 06 22:19:45 PDT 2009</td>\n",
       "      <td>NO_QUERY</td>\n",
       "      <td>_TheSpecialOne_</td>\n",
       "      <td>@switchfoot http://twitpic.com/2y1zl - Awww, t...</td>\n",
       "    </tr>\n",
       "    <tr>\n",
       "      <th>1</th>\n",
       "      <td>0</td>\n",
       "      <td>1467810672</td>\n",
       "      <td>Mon Apr 06 22:19:49 PDT 2009</td>\n",
       "      <td>NO_QUERY</td>\n",
       "      <td>scotthamilton</td>\n",
       "      <td>is upset that he can't update his Facebook by ...</td>\n",
       "    </tr>\n",
       "    <tr>\n",
       "      <th>2</th>\n",
       "      <td>0</td>\n",
       "      <td>1467810917</td>\n",
       "      <td>Mon Apr 06 22:19:53 PDT 2009</td>\n",
       "      <td>NO_QUERY</td>\n",
       "      <td>mattycus</td>\n",
       "      <td>@Kenichan I dived many times for the ball. Man...</td>\n",
       "    </tr>\n",
       "    <tr>\n",
       "      <th>3</th>\n",
       "      <td>0</td>\n",
       "      <td>1467811184</td>\n",
       "      <td>Mon Apr 06 22:19:57 PDT 2009</td>\n",
       "      <td>NO_QUERY</td>\n",
       "      <td>ElleCTF</td>\n",
       "      <td>my whole body feels itchy and like its on fire</td>\n",
       "    </tr>\n",
       "    <tr>\n",
       "      <th>4</th>\n",
       "      <td>0</td>\n",
       "      <td>1467811193</td>\n",
       "      <td>Mon Apr 06 22:19:57 PDT 2009</td>\n",
       "      <td>NO_QUERY</td>\n",
       "      <td>Karoli</td>\n",
       "      <td>@nationwideclass no, it's not behaving at all....</td>\n",
       "    </tr>\n",
       "  </tbody>\n",
       "</table>\n",
       "</div>"
      ],
      "text/plain": [
       "   sentiment          id                          data     query  \\\n",
       "0          0  1467810369  Mon Apr 06 22:19:45 PDT 2009  NO_QUERY   \n",
       "1          0  1467810672  Mon Apr 06 22:19:49 PDT 2009  NO_QUERY   \n",
       "2          0  1467810917  Mon Apr 06 22:19:53 PDT 2009  NO_QUERY   \n",
       "3          0  1467811184  Mon Apr 06 22:19:57 PDT 2009  NO_QUERY   \n",
       "4          0  1467811193  Mon Apr 06 22:19:57 PDT 2009  NO_QUERY   \n",
       "\n",
       "           user_id                                               text  \n",
       "0  _TheSpecialOne_  @switchfoot http://twitpic.com/2y1zl - Awww, t...  \n",
       "1    scotthamilton  is upset that he can't update his Facebook by ...  \n",
       "2         mattycus  @Kenichan I dived many times for the ball. Man...  \n",
       "3          ElleCTF    my whole body feels itchy and like its on fire   \n",
       "4           Karoli  @nationwideclass no, it's not behaving at all....  "
      ]
     },
     "execution_count": 3,
     "metadata": {},
     "output_type": "execute_result"
    }
   ],
   "source": [
    "df.columns = [\"sentiment\", \"id\", \"data\", \"query\", \"user_id\", \"text\"]\n",
    "df.head()"
   ]
  },
  {
   "cell_type": "code",
   "execution_count": 4,
   "id": "1316f06a",
   "metadata": {
    "execution": {
     "iopub.execute_input": "2025-02-08T12:58:40.295909Z",
     "iopub.status.busy": "2025-02-08T12:58:40.295628Z",
     "iopub.status.idle": "2025-02-08T12:58:40.340573Z",
     "shell.execute_reply": "2025-02-08T12:58:40.339842Z"
    },
    "papermill": {
     "duration": 0.05381,
     "end_time": "2025-02-08T12:58:40.341862",
     "exception": false,
     "start_time": "2025-02-08T12:58:40.288052",
     "status": "completed"
    },
    "tags": []
   },
   "outputs": [
    {
     "data": {
      "text/html": [
       "<div>\n",
       "<style scoped>\n",
       "    .dataframe tbody tr th:only-of-type {\n",
       "        vertical-align: middle;\n",
       "    }\n",
       "\n",
       "    .dataframe tbody tr th {\n",
       "        vertical-align: top;\n",
       "    }\n",
       "\n",
       "    .dataframe thead th {\n",
       "        text-align: right;\n",
       "    }\n",
       "</style>\n",
       "<table border=\"1\" class=\"dataframe\">\n",
       "  <thead>\n",
       "    <tr style=\"text-align: right;\">\n",
       "      <th></th>\n",
       "      <th>sentiment</th>\n",
       "      <th>text</th>\n",
       "    </tr>\n",
       "  </thead>\n",
       "  <tbody>\n",
       "    <tr>\n",
       "      <th>0</th>\n",
       "      <td>0</td>\n",
       "      <td>@switchfoot http://twitpic.com/2y1zl - Awww, t...</td>\n",
       "    </tr>\n",
       "    <tr>\n",
       "      <th>1</th>\n",
       "      <td>0</td>\n",
       "      <td>is upset that he can't update his Facebook by ...</td>\n",
       "    </tr>\n",
       "    <tr>\n",
       "      <th>2</th>\n",
       "      <td>0</td>\n",
       "      <td>@Kenichan I dived many times for the ball. Man...</td>\n",
       "    </tr>\n",
       "    <tr>\n",
       "      <th>3</th>\n",
       "      <td>0</td>\n",
       "      <td>my whole body feels itchy and like its on fire</td>\n",
       "    </tr>\n",
       "    <tr>\n",
       "      <th>4</th>\n",
       "      <td>0</td>\n",
       "      <td>@nationwideclass no, it's not behaving at all....</td>\n",
       "    </tr>\n",
       "  </tbody>\n",
       "</table>\n",
       "</div>"
      ],
      "text/plain": [
       "   sentiment                                               text\n",
       "0          0  @switchfoot http://twitpic.com/2y1zl - Awww, t...\n",
       "1          0  is upset that he can't update his Facebook by ...\n",
       "2          0  @Kenichan I dived many times for the ball. Man...\n",
       "3          0    my whole body feels itchy and like its on fire \n",
       "4          0  @nationwideclass no, it's not behaving at all...."
      ]
     },
     "execution_count": 4,
     "metadata": {},
     "output_type": "execute_result"
    }
   ],
   "source": [
    "df = df.drop([\"id\", \"data\", \"query\", \"user_id\"], axis = 1)\n",
    "df.head()"
   ]
  },
  {
   "cell_type": "code",
   "execution_count": 5,
   "id": "32bf51cb",
   "metadata": {
    "execution": {
     "iopub.execute_input": "2025-02-08T12:58:40.354874Z",
     "iopub.status.busy": "2025-02-08T12:58:40.354625Z",
     "iopub.status.idle": "2025-02-08T12:58:40.397318Z",
     "shell.execute_reply": "2025-02-08T12:58:40.396509Z"
    },
    "papermill": {
     "duration": 0.050411,
     "end_time": "2025-02-08T12:58:40.398542",
     "exception": false,
     "start_time": "2025-02-08T12:58:40.348131",
     "status": "completed"
    },
    "tags": []
   },
   "outputs": [
    {
     "data": {
      "text/html": [
       "<div>\n",
       "<style scoped>\n",
       "    .dataframe tbody tr th:only-of-type {\n",
       "        vertical-align: middle;\n",
       "    }\n",
       "\n",
       "    .dataframe tbody tr th {\n",
       "        vertical-align: top;\n",
       "    }\n",
       "\n",
       "    .dataframe thead th {\n",
       "        text-align: right;\n",
       "    }\n",
       "</style>\n",
       "<table border=\"1\" class=\"dataframe\">\n",
       "  <thead>\n",
       "    <tr style=\"text-align: right;\">\n",
       "      <th></th>\n",
       "      <th>sentiment</th>\n",
       "      <th>text</th>\n",
       "    </tr>\n",
       "  </thead>\n",
       "  <tbody>\n",
       "    <tr>\n",
       "      <th>0</th>\n",
       "      <td>Negative</td>\n",
       "      <td>@switchfoot http://twitpic.com/2y1zl - Awww, t...</td>\n",
       "    </tr>\n",
       "    <tr>\n",
       "      <th>1</th>\n",
       "      <td>Negative</td>\n",
       "      <td>is upset that he can't update his Facebook by ...</td>\n",
       "    </tr>\n",
       "    <tr>\n",
       "      <th>2</th>\n",
       "      <td>Negative</td>\n",
       "      <td>@Kenichan I dived many times for the ball. Man...</td>\n",
       "    </tr>\n",
       "    <tr>\n",
       "      <th>3</th>\n",
       "      <td>Negative</td>\n",
       "      <td>my whole body feels itchy and like its on fire</td>\n",
       "    </tr>\n",
       "    <tr>\n",
       "      <th>4</th>\n",
       "      <td>Negative</td>\n",
       "      <td>@nationwideclass no, it's not behaving at all....</td>\n",
       "    </tr>\n",
       "  </tbody>\n",
       "</table>\n",
       "</div>"
      ],
      "text/plain": [
       "  sentiment                                               text\n",
       "0  Negative  @switchfoot http://twitpic.com/2y1zl - Awww, t...\n",
       "1  Negative  is upset that he can't update his Facebook by ...\n",
       "2  Negative  @Kenichan I dived many times for the ball. Man...\n",
       "3  Negative    my whole body feels itchy and like its on fire \n",
       "4  Negative  @nationwideclass no, it's not behaving at all...."
      ]
     },
     "execution_count": 5,
     "metadata": {},
     "output_type": "execute_result"
    }
   ],
   "source": [
    "df.sentiment = df.sentiment.map({0:\"Negative\", 4:\"Positive\"})\n",
    "df.head()"
   ]
  },
  {
   "cell_type": "code",
   "execution_count": 6,
   "id": "2cb65a28",
   "metadata": {
    "execution": {
     "iopub.execute_input": "2025-02-08T12:58:40.413062Z",
     "iopub.status.busy": "2025-02-08T12:58:40.412817Z",
     "iopub.status.idle": "2025-02-08T12:58:40.735902Z",
     "shell.execute_reply": "2025-02-08T12:58:40.735044Z"
    },
    "papermill": {
     "duration": 0.331469,
     "end_time": "2025-02-08T12:58:40.737135",
     "exception": false,
     "start_time": "2025-02-08T12:58:40.405666",
     "status": "completed"
    },
    "tags": []
   },
   "outputs": [
    {
     "data": {
      "image/png": "[encoded data removed]",
      "text/plain": [
       "<Figure size 640x480 with 1 Axes>"
      ]
     },
     "metadata": {},
     "output_type": "display_data"
    }
   ],
   "source": [
    "count = df.sentiment.value_counts()\n",
    "plt.bar(count.index, count)\n",
    "plt.title(\"Sentiment distribution\")\n",
    "plt.show()"
   ]
  },
  {
   "cell_type": "markdown",
   "id": "602c9c1b",
   "metadata": {
    "papermill": {
     "duration": 0.006717,
     "end_time": "2025-02-08T12:58:40.750949",
     "exception": false,
     "start_time": "2025-02-08T12:58:40.744232",
     "status": "completed"
    },
    "tags": []
   },
   "source": [
    "## Preprocessing"
   ]
  },
  {
   "cell_type": "code",
   "execution_count": 7,
   "id": "35cf5dd1",
   "metadata": {
    "execution": {
     "iopub.execute_input": "2025-02-08T12:58:40.765222Z",
     "iopub.status.busy": "2025-02-08T12:58:40.764981Z",
     "iopub.status.idle": "2025-02-08T12:58:40.824419Z",
     "shell.execute_reply": "2025-02-08T12:58:40.823570Z"
    },
    "papermill": {
     "duration": 0.068057,
     "end_time": "2025-02-08T12:58:40.825676",
     "exception": false,
     "start_time": "2025-02-08T12:58:40.757619",
     "status": "completed"
    },
    "tags": []
   },
   "outputs": [
    {
     "data": {
      "text/html": [
       "<div>\n",
       "<style scoped>\n",
       "    .dataframe tbody tr th:only-of-type {\n",
       "        vertical-align: middle;\n",
       "    }\n",
       "\n",
       "    .dataframe tbody tr th {\n",
       "        vertical-align: top;\n",
       "    }\n",
       "\n",
       "    .dataframe thead th {\n",
       "        text-align: right;\n",
       "    }\n",
       "</style>\n",
       "<table border=\"1\" class=\"dataframe\">\n",
       "  <thead>\n",
       "    <tr style=\"text-align: right;\">\n",
       "      <th></th>\n",
       "      <th>sentiment</th>\n",
       "      <th>text</th>\n",
       "    </tr>\n",
       "  </thead>\n",
       "  <tbody>\n",
       "    <tr>\n",
       "      <th>0</th>\n",
       "      <td>0</td>\n",
       "      <td>@switchfoot http://twitpic.com/2y1zl - Awww, t...</td>\n",
       "    </tr>\n",
       "    <tr>\n",
       "      <th>1</th>\n",
       "      <td>0</td>\n",
       "      <td>is upset that he can't update his Facebook by ...</td>\n",
       "    </tr>\n",
       "    <tr>\n",
       "      <th>2</th>\n",
       "      <td>0</td>\n",
       "      <td>@Kenichan I dived many times for the ball. Man...</td>\n",
       "    </tr>\n",
       "    <tr>\n",
       "      <th>3</th>\n",
       "      <td>0</td>\n",
       "      <td>my whole body feels itchy and like its on fire</td>\n",
       "    </tr>\n",
       "    <tr>\n",
       "      <th>4</th>\n",
       "      <td>0</td>\n",
       "      <td>@nationwideclass no, it's not behaving at all....</td>\n",
       "    </tr>\n",
       "    <tr>\n",
       "      <th>...</th>\n",
       "      <td>...</td>\n",
       "      <td>...</td>\n",
       "    </tr>\n",
       "    <tr>\n",
       "      <th>1599995</th>\n",
       "      <td>1</td>\n",
       "      <td>Just woke up. Having no school is the best fee...</td>\n",
       "    </tr>\n",
       "    <tr>\n",
       "      <th>1599996</th>\n",
       "      <td>1</td>\n",
       "      <td>TheWDB.com - Very cool to hear old Walt interv...</td>\n",
       "    </tr>\n",
       "    <tr>\n",
       "      <th>1599997</th>\n",
       "      <td>1</td>\n",
       "      <td>Are you ready for your MoJo Makeover? Ask me f...</td>\n",
       "    </tr>\n",
       "    <tr>\n",
       "      <th>1599998</th>\n",
       "      <td>1</td>\n",
       "      <td>Happy 38th Birthday to my boo of alll time!!! ...</td>\n",
       "    </tr>\n",
       "    <tr>\n",
       "      <th>1599999</th>\n",
       "      <td>1</td>\n",
       "      <td>happy #charitytuesday @theNSPCC @SparksCharity...</td>\n",
       "    </tr>\n",
       "  </tbody>\n",
       "</table>\n",
       "<p>1600000 rows × 2 columns</p>\n",
       "</div>"
      ],
      "text/plain": [
       "         sentiment                                               text\n",
       "0                0  @switchfoot http://twitpic.com/2y1zl - Awww, t...\n",
       "1                0  is upset that he can't update his Facebook by ...\n",
       "2                0  @Kenichan I dived many times for the ball. Man...\n",
       "3                0    my whole body feels itchy and like its on fire \n",
       "4                0  @nationwideclass no, it's not behaving at all....\n",
       "...            ...                                                ...\n",
       "1599995          1  Just woke up. Having no school is the best fee...\n",
       "1599996          1  TheWDB.com - Very cool to hear old Walt interv...\n",
       "1599997          1  Are you ready for your MoJo Makeover? Ask me f...\n",
       "1599998          1  Happy 38th Birthday to my boo of alll time!!! ...\n",
       "1599999          1  happy #charitytuesday @theNSPCC @SparksCharity...\n",
       "\n",
       "[1600000 rows x 2 columns]"
      ]
     },
     "execution_count": 7,
     "metadata": {},
     "output_type": "execute_result"
    }
   ],
   "source": [
    "df.sentiment = df.sentiment.map({\n",
    "    \"Positive\":1,\n",
    "    \"Negative\":0\n",
    "})\n",
    "df"
   ]
  },
  {
   "cell_type": "code",
   "execution_count": 8,
   "id": "981924d3",
   "metadata": {
    "execution": {
     "iopub.execute_input": "2025-02-08T12:58:40.841185Z",
     "iopub.status.busy": "2025-02-08T12:58:40.840946Z",
     "iopub.status.idle": "2025-02-08T12:58:41.306475Z",
     "shell.execute_reply": "2025-02-08T12:58:41.305538Z"
    },
    "papermill": {
     "duration": 0.47551,
     "end_time": "2025-02-08T12:58:41.308100",
     "exception": false,
     "start_time": "2025-02-08T12:58:40.832590",
     "status": "completed"
    },
    "tags": []
   },
   "outputs": [
    {
     "name": "stdout",
     "output_type": "stream",
     "text": [
      "Archive:  /usr/share/nltk_data/corpora/wordnet.zip\r\n",
      "   creating: /usr/share/nltk_data/corpora/wordnet/\r\n",
      "  inflating: /usr/share/nltk_data/corpora/wordnet/lexnames  \r\n",
      "  inflating: /usr/share/nltk_data/corpora/wordnet/data.verb  \r\n",
      "  inflating: /usr/share/nltk_data/corpora/wordnet/index.adv  \r\n",
      "  inflating: /usr/share/nltk_data/corpora/wordnet/adv.exc  \r\n",
      "  inflating: /usr/share/nltk_data/corpora/wordnet/index.verb  \r\n",
      "  inflating: /usr/share/nltk_data/corpora/wordnet/cntlist.rev  \r\n",
      "  inflating: /usr/share/nltk_data/corpora/wordnet/data.adj  \r\n",
      "  inflating: /usr/share/nltk_data/corpora/wordnet/index.adj  \r\n",
      "  inflating: /usr/share/nltk_data/corpora/wordnet/LICENSE  \r\n",
      "  inflating: /usr/share/nltk_data/corpora/wordnet/citation.bib  \r\n",
      "  inflating: /usr/share/nltk_data/corpora/wordnet/noun.exc  \r\n",
      "  inflating: /usr/share/nltk_data/corpora/wordnet/verb.exc  \r\n",
      "  inflating: /usr/share/nltk_data/corpora/wordnet/README  \r\n",
      "  inflating: /usr/share/nltk_data/corpora/wordnet/index.sense  \r\n",
      "  inflating: /usr/share/nltk_data/corpora/wordnet/data.noun  "
     ]
    },
    {
     "name": "stderr",
     "output_type": "stream",
     "text": [
      "/usr/lib/python3.10/pty.py:89: RuntimeWarning: os.fork() was called. os.fork() is incompatible with multithreaded code, and JAX is multithreaded, so this will likely lead to a deadlock.\n",
      "  pid, fd = os.forkpty()\n"
     ]
    },
    {
     "name": "stdout",
     "output_type": "stream",
     "text": [
      "\r\n",
      "  inflating: /usr/share/nltk_data/corpora/wordnet/data.adv  \r\n",
      "  inflating: /usr/share/nltk_data/corpora/wordnet/index.noun  \r\n",
      "  inflating: /usr/share/nltk_data/corpora/wordnet/adj.exc  \r\n"
     ]
    }
   ],
   "source": [
    "!unzip /usr/share/nltk_data/corpora/wordnet.zip -d /usr/share/nltk_data/corpora/\n",
    "from nltk.stem import WordNetLemmatizer\n",
    "from nltk.tokenize import word_tokenize\n",
    "def preprocessing_text(text):\n",
    "    #lower text\n",
    "    text = str(text).lower()\n",
    "    #remove HTML tag\n",
    "    text = re.sub(\"<.*?>\",\"\", text)\n",
    "    #remove URL\n",
    "    text = re.sub(\"https?://\\S+|www\\.\\S+\",\"\", text)\n",
    "    #remove punctuation\n",
    "    text = re.sub(f\"[{string.punctuation}]\",\"\",text)\n",
    "    #lemmatization\n",
    "    lemmatizer = WordNetLemmatizer()\n",
    "    text = [lemmatizer.lemmatize(word) for word in word_tokenize(text)]\n",
    "    return \" \".join(text)"
   ]
  },
  {
   "cell_type": "code",
   "execution_count": 9,
   "id": "21513fd5",
   "metadata": {
    "execution": {
     "iopub.execute_input": "2025-02-08T12:58:41.324068Z",
     "iopub.status.busy": "2025-02-08T12:58:41.323746Z",
     "iopub.status.idle": "2025-02-08T13:02:23.560306Z",
     "shell.execute_reply": "2025-02-08T13:02:23.559538Z"
    },
    "papermill": {
     "duration": 222.246181,
     "end_time": "2025-02-08T13:02:23.561874",
     "exception": false,
     "start_time": "2025-02-08T12:58:41.315693",
     "status": "completed"
    },
    "tags": []
   },
   "outputs": [],
   "source": [
    "df.text = df.text.apply(preprocessing_text)"
   ]
  },
  {
   "cell_type": "code",
   "execution_count": 10,
   "id": "7a5aafc4",
   "metadata": {
    "execution": {
     "iopub.execute_input": "2025-02-08T13:02:23.578330Z",
     "iopub.status.busy": "2025-02-08T13:02:23.578102Z",
     "iopub.status.idle": "2025-02-08T13:02:23.979611Z",
     "shell.execute_reply": "2025-02-08T13:02:23.978946Z"
    },
    "papermill": {
     "duration": 0.411704,
     "end_time": "2025-02-08T13:02:23.981349",
     "exception": false,
     "start_time": "2025-02-08T13:02:23.569645",
     "status": "completed"
    },
    "tags": []
   },
   "outputs": [],
   "source": [
    "df_train, df_temp = train_test_split(df, test_size = 0.2, random_state = 42, shuffle = True)\n",
    "df_val, df_test = train_test_split(df_temp, test_size = 0.5, random_state = 42, shuffle = True)\n"
   ]
  },
  {
   "cell_type": "code",
   "execution_count": 11,
   "id": "a64a70d1",
   "metadata": {
    "execution": {
     "iopub.execute_input": "2025-02-08T13:02:23.996917Z",
     "iopub.status.busy": "2025-02-08T13:02:23.996580Z",
     "iopub.status.idle": "2025-02-08T13:02:24.081621Z",
     "shell.execute_reply": "2025-02-08T13:02:24.080929Z"
    },
    "papermill": {
     "duration": 0.093916,
     "end_time": "2025-02-08T13:02:24.082928",
     "exception": false,
     "start_time": "2025-02-08T13:02:23.989012",
     "status": "completed"
    },
    "tags": []
   },
   "outputs": [],
   "source": [
    "X_train = df_train.text.to_list()\n",
    "y_train = df_train.sentiment.to_list()\n",
    "\n",
    "X_val = df_val.text.to_list()\n",
    "y_val = df_val.sentiment.to_list()\n",
    "\n",
    "X_test = df_test.text.to_list()\n",
    "y_test = df_test.sentiment.to_list()"
   ]
  },
  {
   "cell_type": "markdown",
   "id": "e4629f3f",
   "metadata": {
    "papermill": {
     "duration": 0.006987,
     "end_time": "2025-02-08T13:02:24.097121",
     "exception": false,
     "start_time": "2025-02-08T13:02:24.090134",
     "status": "completed"
    },
    "tags": []
   },
   "source": [
    "## Machine Learning Base Model: TF-IDF vectorization and LogisticRegression"
   ]
  },
  {
   "cell_type": "code",
   "execution_count": 12,
   "id": "e3d6f5b8",
   "metadata": {
    "execution": {
     "iopub.execute_input": "2025-02-08T13:02:24.112449Z",
     "iopub.status.busy": "2025-02-08T13:02:24.112184Z",
     "iopub.status.idle": "2025-02-08T13:02:24.183386Z",
     "shell.execute_reply": "2025-02-08T13:02:24.182789Z"
    },
    "papermill": {
     "duration": 0.080526,
     "end_time": "2025-02-08T13:02:24.184685",
     "exception": false,
     "start_time": "2025-02-08T13:02:24.104159",
     "status": "completed"
    },
    "tags": []
   },
   "outputs": [],
   "source": [
    "from sklearn.feature_extraction.text import TfidfVectorizer\n",
    "from sklearn.linear_model import LogisticRegression\n",
    "from sklearn.pipeline import Pipeline"
   ]
  },
  {
   "cell_type": "code",
   "execution_count": 13,
   "id": "c3e7468a",
   "metadata": {
    "execution": {
     "iopub.execute_input": "2025-02-08T13:02:24.199496Z",
     "iopub.status.busy": "2025-02-08T13:02:24.199283Z",
     "iopub.status.idle": "2025-02-08T13:03:14.251993Z",
     "shell.execute_reply": "2025-02-08T13:03:14.251161Z"
    },
    "papermill": {
     "duration": 50.075982,
     "end_time": "2025-02-08T13:03:14.267778",
     "exception": false,
     "start_time": "2025-02-08T13:02:24.191796",
     "status": "completed"
    },
    "tags": []
   },
   "outputs": [
    {
     "name": "stderr",
     "output_type": "stream",
     "text": [
      "/usr/local/lib/python3.10/dist-packages/sklearn/linear_model/_logistic.py:458: ConvergenceWarning: lbfgs failed to converge (status=1):\n",
      "STOP: TOTAL NO. of ITERATIONS REACHED LIMIT.\n",
      "\n",
      "Increase the number of iterations (max_iter) or scale the data as shown in:\n",
      "    https://scikit-learn.org/stable/modules/preprocessing.html\n",
      "Please also refer to the documentation for alternative solver options:\n",
      "    https://scikit-learn.org/stable/modules/linear_model.html#logistic-regression\n",
      "  n_iter_i = _check_optimize_result(\n"
     ]
    },
    {
     "data": {
      "text/html": [
       "<style>#sk-container-id-1 {color: black;background-color: white;}#sk-container-id-1 pre{padding: 0;}#sk-container-id-1 div.sk-toggleable {background-color: white;}#sk-container-id-1 label.sk-toggleable__label {cursor: pointer;display: block;width: 100%;margin-bottom: 0;padding: 0.3em;box-sizing: border-box;text-align: center;}#sk-container-id-1 label.sk-toggleable__label-arrow:before {content: \"▸\";float: left;margin-right: 0.25em;color: #696969;}#sk-container-id-1 label.sk-toggleable__label-arrow:hover:before {color: black;}#sk-container-id-1 div.sk-estimator:hover label.sk-toggleable__label-arrow:before {color: black;}#sk-container-id-1 div.sk-toggleable__content {max-height: 0;max-width: 0;overflow: hidden;text-align: left;background-color: #f0f8ff;}#sk-container-id-1 div.sk-toggleable__content pre {margin: 0.2em;color: black;border-radius: 0.25em;background-color: #f0f8ff;}#sk-container-id-1 input.sk-toggleable__control:checked~div.sk-toggleable__content {max-height: 200px;max-width: 100%;overflow: auto;}#sk-container-id-1 input.sk-toggleable__control:checked~label.sk-toggleable__label-arrow:before {content: \"▾\";}#sk-container-id-1 div.sk-estimator input.sk-toggleable__control:checked~label.sk-toggleable__label {background-color: #d4ebff;}#sk-container-id-1 div.sk-label input.sk-toggleable__control:checked~label.sk-toggleable__label {background-color: #d4ebff;}#sk-container-id-1 input.sk-hidden--visually {border: 0;clip: rect(1px 1px 1px 1px);clip: rect(1px, 1px, 1px, 1px);height: 1px;margin: -1px;overflow: hidden;padding: 0;position: absolute;width: 1px;}#sk-container-id-1 div.sk-estimator {font-family: monospace;background-color: #f0f8ff;border: 1px dotted black;border-radius: 0.25em;box-sizing: border-box;margin-bottom: 0.5em;}#sk-container-id-1 div.sk-estimator:hover {background-color: #d4ebff;}#sk-container-id-1 div.sk-parallel-item::after {content: \"\";width: 100%;border-bottom: 1px solid gray;flex-grow: 1;}#sk-container-id-1 div.sk-label:hover label.sk-toggleable__label {background-color: #d4ebff;}#sk-container-id-1 div.sk-serial::before {content: \"\";position: absolute;border-left: 1px solid gray;box-sizing: border-box;top: 0;bottom: 0;left: 50%;z-index: 0;}#sk-container-id-1 div.sk-serial {display: flex;flex-direction: column;align-items: center;background-color: white;padding-right: 0.2em;padding-left: 0.2em;position: relative;}#sk-container-id-1 div.sk-item {position: relative;z-index: 1;}#sk-container-id-1 div.sk-parallel {display: flex;align-items: stretch;justify-content: center;background-color: white;position: relative;}#sk-container-id-1 div.sk-item::before, #sk-container-id-1 div.sk-parallel-item::before {content: \"\";position: absolute;border-left: 1px solid gray;box-sizing: border-box;top: 0;bottom: 0;left: 50%;z-index: -1;}#sk-container-id-1 div.sk-parallel-item {display: flex;flex-direction: column;z-index: 1;position: relative;background-color: white;}#sk-container-id-1 div.sk-parallel-item:first-child::after {align-self: flex-end;width: 50%;}#sk-container-id-1 div.sk-parallel-item:last-child::after {align-self: flex-start;width: 50%;}#sk-container-id-1 div.sk-parallel-item:only-child::after {width: 0;}#sk-container-id-1 div.sk-dashed-wrapped {border: 1px dashed gray;margin: 0 0.4em 0.5em 0.4em;box-sizing: border-box;padding-bottom: 0.4em;background-color: white;}#sk-container-id-1 div.sk-label label {font-family: monospace;font-weight: bold;display: inline-block;line-height: 1.2em;}#sk-container-id-1 div.sk-label-container {text-align: center;}#sk-container-id-1 div.sk-container {/* jupyter's `normalize.less` sets `[hidden] { display: none; }` but bootstrap.min.css set `[hidden] { display: none !important; }` so we also need the `!important` here to be able to override the default hidden behavior on the sphinx rendered scikit-learn.org. See: https://github.com/scikit-learn/scikit-learn/issues/21755 */display: inline-block !important;position: relative;}#sk-container-id-1 div.sk-text-repr-fallback {display: none;}</style><div id=\"sk-container-id-1\" class=\"sk-top-container\"><div class=\"sk-text-repr-fallback\"><pre>Pipeline(steps=[(&#x27;tfidf&#x27;, TfidfVectorizer()), (&#x27;lr&#x27;, LogisticRegression())])</pre><b>In a Jupyter environment, please rerun this cell to show the HTML representation or trust the notebook. <br />On GitHub, the HTML representation is unable to render, please try loading this page with nbviewer.org.</b></div><div class=\"sk-container\" hidden><div class=\"sk-item sk-dashed-wrapped\"><div class=\"sk-label-container\"><div class=\"sk-label sk-toggleable\"><input class=\"sk-toggleable__control sk-hidden--visually\" id=\"sk-estimator-id-1\" type=\"checkbox\" ><label for=\"sk-estimator-id-1\" class=\"sk-toggleable__label sk-toggleable__label-arrow\">Pipeline</label><div class=\"sk-toggleable__content\"><pre>Pipeline(steps=[(&#x27;tfidf&#x27;, TfidfVectorizer()), (&#x27;lr&#x27;, LogisticRegression())])</pre></div></div></div><div class=\"sk-serial\"><div class=\"sk-item\"><div class=\"sk-estimator sk-toggleable\"><input class=\"sk-toggleable__control sk-hidden--visually\" id=\"sk-estimator-id-2\" type=\"checkbox\" ><label for=\"sk-estimator-id-2\" class=\"sk-toggleable__label sk-toggleable__label-arrow\">TfidfVectorizer</label><div class=\"sk-toggleable__content\"><pre>TfidfVectorizer()</pre></div></div></div><div class=\"sk-item\"><div class=\"sk-estimator sk-toggleable\"><input class=\"sk-toggleable__control sk-hidden--visually\" id=\"sk-estimator-id-3\" type=\"checkbox\" ><label for=\"sk-estimator-id-3\" class=\"sk-toggleable__label sk-toggleable__label-arrow\">LogisticRegression</label><div class=\"sk-toggleable__content\"><pre>LogisticRegression()</pre></div></div></div></div></div></div></div>"
      ],
      "text/plain": [
       "Pipeline(steps=[('tfidf', TfidfVectorizer()), ('lr', LogisticRegression())])"
      ]
     },
     "execution_count": 13,
     "metadata": {},
     "output_type": "execute_result"
    }
   ],
   "source": [
    "model_0 = Pipeline([\n",
    "    (\"tfidf\", TfidfVectorizer()),\n",
    "    (\"lr\", LogisticRegression())\n",
    "])\n",
    "\n",
    "model_0.fit(X_train, y_train)"
   ]
  },
  {
   "cell_type": "code",
   "execution_count": 14,
   "id": "b25ca882",
   "metadata": {
    "execution": {
     "iopub.execute_input": "2025-02-08T13:03:14.294801Z",
     "iopub.status.busy": "2025-02-08T13:03:14.294484Z",
     "iopub.status.idle": "2025-02-08T13:03:14.301281Z",
     "shell.execute_reply": "2025-02-08T13:03:14.300579Z"
    },
    "papermill": {
     "duration": 0.02213,
     "end_time": "2025-02-08T13:03:14.302866",
     "exception": false,
     "start_time": "2025-02-08T13:03:14.280736",
     "status": "completed"
    },
    "tags": []
   },
   "outputs": [],
   "source": [
    "#create function to evaluate the model\n",
    "from sklearn.metrics import accuracy_score, precision_score, recall_score, f1_score, confusion_matrix, ConfusionMatrixDisplay\n",
    "\n",
    "def calculate_result(y_true, y_pred):\n",
    "    model_accuracy = accuracy_score(y_true, y_pred)\n",
    "    model_precision = precision_score(y_true, y_pred)\n",
    "    model_recall = recall_score(y_true, y_pred)\n",
    "    model_f1 = f1_score(y_true, y_pred)\n",
    "    result = {\n",
    "        \"accuracy\": model_accuracy,\n",
    "        \"precision\": model_precision,\n",
    "        \"recall\": model_recall,\n",
    "        \"f1\": model_f1\n",
    "    }\n",
    "    return result\n",
    "\n",
    "def plot_confusion_matrix(y_true, y_pred):\n",
    "    cm = confusion_matrix(y_true, y_pred, normalize = \"true\")\n",
    "    disp = ConfusionMatrixDisplay(confusion_matrix=cm)\n",
    "    disp.plot()\n",
    "    plt.show()"
   ]
  },
  {
   "cell_type": "code",
   "execution_count": 15,
   "id": "1c9d658f",
   "metadata": {
    "execution": {
     "iopub.execute_input": "2025-02-08T13:03:14.327483Z",
     "iopub.status.busy": "2025-02-08T13:03:14.327277Z",
     "iopub.status.idle": "2025-02-08T13:03:16.469309Z",
     "shell.execute_reply": "2025-02-08T13:03:16.468410Z"
    },
    "papermill": {
     "duration": 2.154467,
     "end_time": "2025-02-08T13:03:16.470656",
     "exception": false,
     "start_time": "2025-02-08T13:03:14.316189",
     "status": "completed"
    },
    "tags": []
   },
   "outputs": [
    {
     "data": {
      "text/plain": [
       "{'accuracy': 0.80080625,\n",
       " 'precision': 0.7963594436130805,\n",
       " 'recall': 0.8095968476051526,\n",
       " 'f1': 0.8029235896833398}"
      ]
     },
     "execution_count": 15,
     "metadata": {},
     "output_type": "execute_result"
    }
   ],
   "source": [
    "model_0_pred = model_0.predict(X_test)\n",
    "calculate_result(y_test, model_0_pred)"
   ]
  },
  {
   "cell_type": "code",
   "execution_count": 16,
   "id": "2bf63370",
   "metadata": {
    "execution": {
     "iopub.execute_input": "2025-02-08T13:03:16.487436Z",
     "iopub.status.busy": "2025-02-08T13:03:16.487204Z",
     "iopub.status.idle": "2025-02-08T13:03:16.742509Z",
     "shell.execute_reply": "2025-02-08T13:03:16.741626Z"
    },
    "papermill": {
     "duration": 0.265431,
     "end_time": "2025-02-08T13:03:16.743910",
     "exception": false,
     "start_time": "2025-02-08T13:03:16.478479",
     "status": "completed"
    },
    "tags": []
   },
   "outputs": [
    {
     "data": {
      "image/png": "[encoded data removed]",
      "text/plain": [
       "<Figure size 640x480 with 2 Axes>"
      ]
     },
     "metadata": {},
     "output_type": "display_data"
    }
   ],
   "source": [
    "plot_confusion_matrix(y_test, model_0_pred)"
   ]
  },
  {
   "cell_type": "markdown",
   "id": "876cd667",
   "metadata": {
    "papermill": {
     "duration": 0.007561,
     "end_time": "2025-02-08T13:03:16.759667",
     "exception": false,
     "start_time": "2025-02-08T13:03:16.752106",
     "status": "completed"
    },
    "tags": []
   },
   "source": [
    "## Deep Learning Model: Embedding and LSTM"
   ]
  },
  {
   "cell_type": "code",
   "execution_count": 17,
   "id": "79bb78fb",
   "metadata": {
    "execution": {
     "iopub.execute_input": "2025-02-08T13:03:16.775963Z",
     "iopub.status.busy": "2025-02-08T13:03:16.775686Z",
     "iopub.status.idle": "2025-02-08T13:03:24.171461Z",
     "shell.execute_reply": "2025-02-08T13:03:24.170749Z"
    },
    "papermill": {
     "duration": 7.40569,
     "end_time": "2025-02-08T13:03:24.172987",
     "exception": false,
     "start_time": "2025-02-08T13:03:16.767297",
     "status": "completed"
    },
    "tags": []
   },
   "outputs": [],
   "source": [
    "train_dataset = tf.data.Dataset.from_tensor_slices((X_train, y_train))\n",
    "val_dataset = tf.data.Dataset.from_tensor_slices((X_val, y_val))\n",
    "test_dataset = tf.data.Dataset.from_tensor_slices((X_test, y_test))"
   ]
  },
  {
   "cell_type": "code",
   "execution_count": 18,
   "id": "105a638f",
   "metadata": {
    "execution": {
     "iopub.execute_input": "2025-02-08T13:03:24.189679Z",
     "iopub.status.busy": "2025-02-08T13:03:24.189446Z",
     "iopub.status.idle": "2025-02-08T13:03:24.207885Z",
     "shell.execute_reply": "2025-02-08T13:03:24.207275Z"
    },
    "papermill": {
     "duration": 0.0279,
     "end_time": "2025-02-08T13:03:24.209170",
     "exception": false,
     "start_time": "2025-02-08T13:03:24.181270",
     "status": "completed"
    },
    "tags": []
   },
   "outputs": [],
   "source": [
    "train_dataset = train_dataset.batch(64).prefetch(tf.data.AUTOTUNE)\n",
    "val_dataset = val_dataset.batch(64).prefetch(tf.data.AUTOTUNE)\n",
    "test_dataset = test_dataset.batch(64).prefetch(tf.data.AUTOTUNE)"
   ]
  },
  {
   "cell_type": "code",
   "execution_count": 19,
   "id": "c0bd6104",
   "metadata": {
    "execution": {
     "iopub.execute_input": "2025-02-08T13:03:24.225604Z",
     "iopub.status.busy": "2025-02-08T13:03:24.225393Z",
     "iopub.status.idle": "2025-02-08T13:03:25.466246Z",
     "shell.execute_reply": "2025-02-08T13:03:25.465446Z"
    },
    "papermill": {
     "duration": 1.250401,
     "end_time": "2025-02-08T13:03:25.467507",
     "exception": false,
     "start_time": "2025-02-08T13:03:24.217106",
     "status": "completed"
    },
    "tags": []
   },
   "outputs": [
    {
     "data": {
      "text/plain": [
       "25.0"
      ]
     },
     "execution_count": 19,
     "metadata": {},
     "output_type": "execute_result"
    }
   ],
   "source": [
    "sentence_length = [len(sentence.split()) for sentence in X_train]\n",
    "np.percentile(sentence_length, 95)"
   ]
  },
  {
   "cell_type": "code",
   "execution_count": 20,
   "id": "8026a2e6",
   "metadata": {
    "execution": {
     "iopub.execute_input": "2025-02-08T13:03:25.484356Z",
     "iopub.status.busy": "2025-02-08T13:03:25.484117Z",
     "iopub.status.idle": "2025-02-08T13:03:33.912697Z",
     "shell.execute_reply": "2025-02-08T13:03:33.912002Z"
    },
    "papermill": {
     "duration": 8.518249,
     "end_time": "2025-02-08T13:03:33.993848",
     "exception": false,
     "start_time": "2025-02-08T13:03:25.475599",
     "status": "completed"
    },
    "tags": []
   },
   "outputs": [],
   "source": [
    "text_vectorizer = tf.keras.layers.TextVectorization(\n",
    "    standardize=\"lower_and_strip_punctuation\",\n",
    "    split=\"whitespace\",\n",
    "    output_mode=\"int\",\n",
    "    output_sequence_length=25\n",
    ")\n",
    "text_vectorizer.adapt(X_train)"
   ]
  },
  {
   "cell_type": "code",
   "execution_count": 21,
   "id": "96b64a00",
   "metadata": {
    "execution": {
     "iopub.execute_input": "2025-02-08T13:03:34.010977Z",
     "iopub.status.busy": "2025-02-08T13:03:34.010629Z",
     "iopub.status.idle": "2025-02-08T13:03:36.662001Z",
     "shell.execute_reply": "2025-02-08T13:03:36.661100Z"
    },
    "papermill": {
     "duration": 2.66125,
     "end_time": "2025-02-08T13:03:36.663384",
     "exception": false,
     "start_time": "2025-02-08T13:03:34.002134",
     "status": "completed"
    },
    "tags": []
   },
   "outputs": [
    {
     "data": {
      "text/plain": [
       "660823"
      ]
     },
     "execution_count": 21,
     "metadata": {},
     "output_type": "execute_result"
    }
   ],
   "source": [
    "vocab_size = len(text_vectorizer.get_vocabulary())\n",
    "vocab_size"
   ]
  },
  {
   "cell_type": "code",
   "execution_count": 22,
   "id": "78bce664",
   "metadata": {
    "execution": {
     "iopub.execute_input": "2025-02-08T13:03:36.680489Z",
     "iopub.status.busy": "2025-02-08T13:03:36.680229Z",
     "iopub.status.idle": "2025-02-08T13:03:37.591863Z",
     "shell.execute_reply": "2025-02-08T13:03:37.591172Z"
    },
    "papermill": {
     "duration": 0.921791,
     "end_time": "2025-02-08T13:03:37.593447",
     "exception": false,
     "start_time": "2025-02-08T13:03:36.671656",
     "status": "completed"
    },
    "tags": []
   },
   "outputs": [],
   "source": [
    "model_1 = tf.keras.Sequential([\n",
    "    tf.keras.Input(shape = (1,), dtype = tf.string),\n",
    "    text_vectorizer,\n",
    "    Embedding(\n",
    "        input_dim = vocab_size,\n",
    "        output_dim = 128\n",
    "    ),\n",
    "    Conv1D(64, 5, activation = \"relu\"),\n",
    "    Bidirectional(LSTM(\n",
    "        64, return_sequences = True, recurrent_dropout = 0.2\n",
    "    )),\n",
    "    GRU(32),\n",
    "    Dense(32, activation = \"relu\"),\n",
    "    Dropout(0.5),\n",
    "    BatchNormalization(),\n",
    "    Dense(1, activation = \"sigmoid\")\n",
    "])\n",
    "\n",
    "model_1.compile(\n",
    "    loss = tf.keras.losses.BinaryCrossentropy(),\n",
    "    optimizer = tf.keras.optimizers.Adam(),\n",
    "    metrics = [\"accuracy\"]\n",
    ")"
   ]
  },
  {
   "cell_type": "code",
   "execution_count": 23,
   "id": "98eb910a",
   "metadata": {
    "execution": {
     "iopub.execute_input": "2025-02-08T13:03:37.610806Z",
     "iopub.status.busy": "2025-02-08T13:03:37.610540Z",
     "iopub.status.idle": "2025-02-08T13:03:37.628376Z",
     "shell.execute_reply": "2025-02-08T13:03:37.627590Z"
    },
    "papermill": {
     "duration": 0.027321,
     "end_time": "2025-02-08T13:03:37.629538",
     "exception": false,
     "start_time": "2025-02-08T13:03:37.602217",
     "status": "completed"
    },
    "tags": []
   },
   "outputs": [
    {
     "data": {
      "text/html": [
       "<pre style=\"white-space:pre;overflow-x:auto;line-height:normal;font-family:Menlo,'DejaVu Sans Mono',consolas,'Courier New',monospace\"><span style=\"font-weight: bold\">Model: \"sequential\"</span>\n",
       "</pre>\n"
      ],
      "text/plain": [
       "\u001b[1mModel: \"sequential\"\u001b[0m\n"
      ]
     },
     "metadata": {},
     "output_type": "display_data"
    },
    {
     "data": {
      "text/html": [
       "<pre style=\"white-space:pre;overflow-x:auto;line-height:normal;font-family:Menlo,'DejaVu Sans Mono',consolas,'Courier New',monospace\">┏━━━━━━━━━━━━━━━━━━━━━━━━━━━━━━━━━━━━━━┳━━━━━━━━━━━━━━━━━━━━━━━━━━━━━┳━━━━━━━━━━━━━━━━━┓\n",
       "┃<span style=\"font-weight: bold\"> Layer (type)                         </span>┃<span style=\"font-weight: bold\"> Output Shape                </span>┃<span style=\"font-weight: bold\">         Param # </span>┃\n",
       "┡━━━━━━━━━━━━━━━━━━━━━━━━━━━━━━━━━━━━━━╇━━━━━━━━━━━━━━━━━━━━━━━━━━━━━╇━━━━━━━━━━━━━━━━━┩\n",
       "│ text_vectorization                   │ (<span style=\"color: #00d7ff; text-decoration-color: #00d7ff\">None</span>, <span style=\"color: #00af00; text-decoration-color: #00af00\">25</span>)                  │               <span style=\"color: #00af00; text-decoration-color: #00af00\">0</span> │\n",
       "│ (<span style=\"color: #0087ff; text-decoration-color: #0087ff\">TextVectorization</span>)                  │                             │                 │\n",
       "├──────────────────────────────────────┼─────────────────────────────┼─────────────────┤\n",
       "│ embedding (<span style=\"color: #0087ff; text-decoration-color: #0087ff\">Embedding</span>)                │ (<span style=\"color: #00d7ff; text-decoration-color: #00d7ff\">None</span>, <span style=\"color: #00af00; text-decoration-color: #00af00\">25</span>, <span style=\"color: #00af00; text-decoration-color: #00af00\">128</span>)             │      <span style=\"color: #00af00; text-decoration-color: #00af00\">84,585,344</span> │\n",
       "├──────────────────────────────────────┼─────────────────────────────┼─────────────────┤\n",
       "│ conv1d (<span style=\"color: #0087ff; text-decoration-color: #0087ff\">Conv1D</span>)                      │ (<span style=\"color: #00d7ff; text-decoration-color: #00d7ff\">None</span>, <span style=\"color: #00af00; text-decoration-color: #00af00\">21</span>, <span style=\"color: #00af00; text-decoration-color: #00af00\">64</span>)              │          <span style=\"color: #00af00; text-decoration-color: #00af00\">41,024</span> │\n",
       "├──────────────────────────────────────┼─────────────────────────────┼─────────────────┤\n",
       "│ bidirectional (<span style=\"color: #0087ff; text-decoration-color: #0087ff\">Bidirectional</span>)        │ (<span style=\"color: #00d7ff; text-decoration-color: #00d7ff\">None</span>, <span style=\"color: #00af00; text-decoration-color: #00af00\">21</span>, <span style=\"color: #00af00; text-decoration-color: #00af00\">128</span>)             │          <span style=\"color: #00af00; text-decoration-color: #00af00\">66,048</span> │\n",
       "├──────────────────────────────────────┼─────────────────────────────┼─────────────────┤\n",
       "│ gru (<span style=\"color: #0087ff; text-decoration-color: #0087ff\">GRU</span>)                            │ (<span style=\"color: #00d7ff; text-decoration-color: #00d7ff\">None</span>, <span style=\"color: #00af00; text-decoration-color: #00af00\">32</span>)                  │          <span style=\"color: #00af00; text-decoration-color: #00af00\">15,552</span> │\n",
       "├──────────────────────────────────────┼─────────────────────────────┼─────────────────┤\n",
       "│ dense (<span style=\"color: #0087ff; text-decoration-color: #0087ff\">Dense</span>)                        │ (<span style=\"color: #00d7ff; text-decoration-color: #00d7ff\">None</span>, <span style=\"color: #00af00; text-decoration-color: #00af00\">32</span>)                  │           <span style=\"color: #00af00; text-decoration-color: #00af00\">1,056</span> │\n",
       "├──────────────────────────────────────┼─────────────────────────────┼─────────────────┤\n",
       "│ dropout (<span style=\"color: #0087ff; text-decoration-color: #0087ff\">Dropout</span>)                    │ (<span style=\"color: #00d7ff; text-decoration-color: #00d7ff\">None</span>, <span style=\"color: #00af00; text-decoration-color: #00af00\">32</span>)                  │               <span style=\"color: #00af00; text-decoration-color: #00af00\">0</span> │\n",
       "├──────────────────────────────────────┼─────────────────────────────┼─────────────────┤\n",
       "│ batch_normalization                  │ (<span style=\"color: #00d7ff; text-decoration-color: #00d7ff\">None</span>, <span style=\"color: #00af00; text-decoration-color: #00af00\">32</span>)                  │             <span style=\"color: #00af00; text-decoration-color: #00af00\">128</span> │\n",
       "│ (<span style=\"color: #0087ff; text-decoration-color: #0087ff\">BatchNormalization</span>)                 │                             │                 │\n",
       "├──────────────────────────────────────┼─────────────────────────────┼─────────────────┤\n",
       "│ dense_1 (<span style=\"color: #0087ff; text-decoration-color: #0087ff\">Dense</span>)                      │ (<span style=\"color: #00d7ff; text-decoration-color: #00d7ff\">None</span>, <span style=\"color: #00af00; text-decoration-color: #00af00\">1</span>)                   │              <span style=\"color: #00af00; text-decoration-color: #00af00\">33</span> │\n",
       "└──────────────────────────────────────┴─────────────────────────────┴─────────────────┘\n",
       "</pre>\n"
      ],
      "text/plain": [
       "┏━━━━━━━━━━━━━━━━━━━━━━━━━━━━━━━━━━━━━━┳━━━━━━━━━━━━━━━━━━━━━━━━━━━━━┳━━━━━━━━━━━━━━━━━┓\n",
       "┃\u001b[1m \u001b[0m\u001b[1mLayer (type)                        \u001b[0m\u001b[1m \u001b[0m┃\u001b[1m \u001b[0m\u001b[1mOutput Shape               \u001b[0m\u001b[1m \u001b[0m┃\u001b[1m \u001b[0m\u001b[1m        Param #\u001b[0m\u001b[1m \u001b[0m┃\n",
       "┡━━━━━━━━━━━━━━━━━━━━━━━━━━━━━━━━━━━━━━╇━━━━━━━━━━━━━━━━━━━━━━━━━━━━━╇━━━━━━━━━━━━━━━━━┩\n",
       "│ text_vectorization                   │ (\u001b[38;5;45mNone\u001b[0m, \u001b[38;5;34m25\u001b[0m)                  │               \u001b[38;5;34m0\u001b[0m │\n",
       "│ (\u001b[38;5;33mTextVectorization\u001b[0m)                  │                             │                 │\n",
       "├──────────────────────────────────────┼─────────────────────────────┼─────────────────┤\n",
       "│ embedding (\u001b[38;5;33mEmbedding\u001b[0m)                │ (\u001b[38;5;45mNone\u001b[0m, \u001b[38;5;34m25\u001b[0m, \u001b[38;5;34m128\u001b[0m)             │      \u001b[38;5;34m84,585,344\u001b[0m │\n",
       "├──────────────────────────────────────┼─────────────────────────────┼─────────────────┤\n",
       "│ conv1d (\u001b[38;5;33mConv1D\u001b[0m)                      │ (\u001b[38;5;45mNone\u001b[0m, \u001b[38;5;34m21\u001b[0m, \u001b[38;5;34m64\u001b[0m)              │          \u001b[38;5;34m41,024\u001b[0m │\n",
       "├──────────────────────────────────────┼─────────────────────────────┼─────────────────┤\n",
       "│ bidirectional (\u001b[38;5;33mBidirectional\u001b[0m)        │ (\u001b[38;5;45mNone\u001b[0m, \u001b[38;5;34m21\u001b[0m, \u001b[38;5;34m128\u001b[0m)             │          \u001b[38;5;34m66,048\u001b[0m │\n",
       "├──────────────────────────────────────┼─────────────────────────────┼─────────────────┤\n",
       "│ gru (\u001b[38;5;33mGRU\u001b[0m)                            │ (\u001b[38;5;45mNone\u001b[0m, \u001b[38;5;34m32\u001b[0m)                  │          \u001b[38;5;34m15,552\u001b[0m │\n",
       "├──────────────────────────────────────┼─────────────────────────────┼─────────────────┤\n",
       "│ dense (\u001b[38;5;33mDense\u001b[0m)                        │ (\u001b[38;5;45mNone\u001b[0m, \u001b[38;5;34m32\u001b[0m)                  │           \u001b[38;5;34m1,056\u001b[0m │\n",
       "├──────────────────────────────────────┼─────────────────────────────┼─────────────────┤\n",
       "│ dropout (\u001b[38;5;33mDropout\u001b[0m)                    │ (\u001b[38;5;45mNone\u001b[0m, \u001b[38;5;34m32\u001b[0m)                  │               \u001b[38;5;34m0\u001b[0m │\n",
       "├──────────────────────────────────────┼─────────────────────────────┼─────────────────┤\n",
       "│ batch_normalization                  │ (\u001b[38;5;45mNone\u001b[0m, \u001b[38;5;34m32\u001b[0m)                  │             \u001b[38;5;34m128\u001b[0m │\n",
       "│ (\u001b[38;5;33mBatchNormalization\u001b[0m)                 │                             │                 │\n",
       "├──────────────────────────────────────┼─────────────────────────────┼─────────────────┤\n",
       "│ dense_1 (\u001b[38;5;33mDense\u001b[0m)                      │ (\u001b[38;5;45mNone\u001b[0m, \u001b[38;5;34m1\u001b[0m)                   │              \u001b[38;5;34m33\u001b[0m │\n",
       "└──────────────────────────────────────┴─────────────────────────────┴─────────────────┘\n"
      ]
     },
     "metadata": {},
     "output_type": "display_data"
    },
    {
     "data": {
      "text/html": [
       "<pre style=\"white-space:pre;overflow-x:auto;line-height:normal;font-family:Menlo,'DejaVu Sans Mono',consolas,'Courier New',monospace\"><span style=\"font-weight: bold\"> Total params: </span><span style=\"color: #00af00; text-decoration-color: #00af00\">84,709,185</span> (323.14 MB)\n",
       "</pre>\n"
      ],
      "text/plain": [
       "\u001b[1m Total params: \u001b[0m\u001b[38;5;34m84,709,185\u001b[0m (323.14 MB)\n"
      ]
     },
     "metadata": {},
     "output_type": "display_data"
    },
    {
     "data": {
      "text/html": [
       "<pre style=\"white-space:pre;overflow-x:auto;line-height:normal;font-family:Menlo,'DejaVu Sans Mono',consolas,'Courier New',monospace\"><span style=\"font-weight: bold\"> Trainable params: </span><span style=\"color: #00af00; text-decoration-color: #00af00\">84,709,121</span> (323.14 MB)\n",
       "</pre>\n"
      ],
      "text/plain": [
       "\u001b[1m Trainable params: \u001b[0m\u001b[38;5;34m84,709,121\u001b[0m (323.14 MB)\n"
      ]
     },
     "metadata": {},
     "output_type": "display_data"
    },
    {
     "data": {
      "text/html": [
       "<pre style=\"white-space:pre;overflow-x:auto;line-height:normal;font-family:Menlo,'DejaVu Sans Mono',consolas,'Courier New',monospace\"><span style=\"font-weight: bold\"> Non-trainable params: </span><span style=\"color: #00af00; text-decoration-color: #00af00\">64</span> (256.00 B)\n",
       "</pre>\n"
      ],
      "text/plain": [
       "\u001b[1m Non-trainable params: \u001b[0m\u001b[38;5;34m64\u001b[0m (256.00 B)\n"
      ]
     },
     "metadata": {},
     "output_type": "display_data"
    }
   ],
   "source": [
    "model_1.summary()"
   ]
  },
  {
   "cell_type": "code",
   "execution_count": 24,
   "id": "95e9ca49",
   "metadata": {
    "execution": {
     "iopub.execute_input": "2025-02-08T13:03:37.647442Z",
     "iopub.status.busy": "2025-02-08T13:03:37.647210Z",
     "iopub.status.idle": "2025-02-08T13:03:37.650924Z",
     "shell.execute_reply": "2025-02-08T13:03:37.650135Z"
    },
    "papermill": {
     "duration": 0.014201,
     "end_time": "2025-02-08T13:03:37.652229",
     "exception": false,
     "start_time": "2025-02-08T13:03:37.638028",
     "status": "completed"
    },
    "tags": []
   },
   "outputs": [],
   "source": [
    "mc = tf.keras.callbacks.ModelCheckpoint(\n",
    "    \"/kaggle/working/model.keras\",\n",
    "    monitor='val_loss',\n",
    "    verbose=0,\n",
    "    save_best_only=True\n",
    ")\n",
    "\n",
    "rlr = tf.keras.callbacks.ReduceLROnPlateau(\n",
    "    factor=0.1,\n",
    "    min_lr = 0.00001,\n",
    "    monitor = 'val_loss',\n",
    "    verbose = 1,\n",
    "    min_delta=0.01)"
   ]
  },
  {
   "cell_type": "code",
   "execution_count": 25,
   "id": "1fa712e0",
   "metadata": {
    "execution": {
     "iopub.execute_input": "2025-02-08T13:03:37.670213Z",
     "iopub.status.busy": "2025-02-08T13:03:37.670011Z",
     "iopub.status.idle": "2025-02-08T15:32:22.397577Z",
     "shell.execute_reply": "2025-02-08T15:32:22.396680Z"
    },
    "papermill": {
     "duration": 8929.822908,
     "end_time": "2025-02-08T15:32:27.483907",
     "exception": false,
     "start_time": "2025-02-08T13:03:37.660999",
     "status": "completed"
    },
    "tags": []
   },
   "outputs": [
    {
     "name": "stdout",
     "output_type": "stream",
     "text": [
      "Epoch 1/5\n",
      "\u001b[1m20000/20000\u001b[0m \u001b[32m━━━━━━━━━━━━━━━━━━━━\u001b[0m\u001b[37m\u001b[0m \u001b[1m1787s\u001b[0m 89ms/step - accuracy: 0.7841 - loss: 0.4609 - val_accuracy: 0.8252 - val_loss: 0.3844 - learning_rate: 0.0010\n",
      "Epoch 2/5\n",
      "\u001b[1m20000/20000\u001b[0m \u001b[32m━━━━━━━━━━━━━━━━━━━━\u001b[0m\u001b[37m\u001b[0m \u001b[1m1775s\u001b[0m 89ms/step - accuracy: 0.8773 - loss: 0.2987 - val_accuracy: 0.8073 - val_loss: 0.4763 - learning_rate: 0.0010\n",
      "Epoch 3/5\n",
      "\u001b[1m20000/20000\u001b[0m \u001b[32m━━━━━━━━━━━━━━━━━━━━\u001b[0m\u001b[37m\u001b[0m \u001b[1m1782s\u001b[0m 89ms/step - accuracy: 0.9168 - loss: 0.2106 - val_accuracy: 0.8059 - val_loss: 0.5195 - learning_rate: 0.0010\n",
      "Epoch 4/5\n",
      "\u001b[1m20000/20000\u001b[0m \u001b[32m━━━━━━━━━━━━━━━━━━━━\u001b[0m\u001b[37m\u001b[0m \u001b[1m1787s\u001b[0m 89ms/step - accuracy: 0.9302 - loss: 0.1754 - val_accuracy: 0.8075 - val_loss: 0.5485 - learning_rate: 0.0010\n",
      "Epoch 5/5\n",
      "\u001b[1m20000/20000\u001b[0m \u001b[32m━━━━━━━━━━━━━━━━━━━━\u001b[0m\u001b[37m\u001b[0m \u001b[1m1794s\u001b[0m 90ms/step - accuracy: 0.9419 - loss: 0.1479 - val_accuracy: 0.8055 - val_loss: 0.6236 - learning_rate: 0.0010\n"
     ]
    }
   ],
   "source": [
    "history_1 = model_1.fit(\n",
    "    train_dataset,\n",
    "    epochs = 5,\n",
    "    validation_data = val_dataset,\n",
    "    callbacks=[mc, rlr]\n",
    ")"
   ]
  },
  {
   "cell_type": "code",
   "execution_count": 26,
   "id": "b1c01af9",
   "metadata": {
    "execution": {
     "iopub.execute_input": "2025-02-08T15:32:37.606429Z",
     "iopub.status.busy": "2025-02-08T15:32:37.606111Z",
     "iopub.status.idle": "2025-02-08T15:32:37.611327Z",
     "shell.execute_reply": "2025-02-08T15:32:37.610639Z"
    },
    "papermill": {
     "duration": 5.018225,
     "end_time": "2025-02-08T15:32:37.612699",
     "exception": false,
     "start_time": "2025-02-08T15:32:32.594474",
     "status": "completed"
    },
    "tags": []
   },
   "outputs": [],
   "source": [
    "def plot_curve(history):\n",
    "    plt.figure(figsize = (15,5))\n",
    "    result = pd.DataFrame(history.history)\n",
    "    plt.subplot(1,2,1)\n",
    "    plt.plot(result.loss, label = \"loss\")\n",
    "    plt.plot(result.val_loss, label = \"val_loss\")\n",
    "    plt.xticks(range(5))\n",
    "    plt.legend()\n",
    "    plt.subplot(1,2,2)\n",
    "    plt.plot(result.accuracy, label = \"accuracy\")\n",
    "    plt.plot(result.val_accuracy, label = \"val_accuracy\")\n",
    "    plt.xticks(range(5))\n",
    "    plt.legend()"
   ]
  },
  {
   "cell_type": "code",
   "execution_count": 27,
   "id": "4e544ad1",
   "metadata": {
    "execution": {
     "iopub.execute_input": "2025-02-08T15:32:47.957119Z",
     "iopub.status.busy": "2025-02-08T15:32:47.956807Z",
     "iopub.status.idle": "2025-02-08T15:32:48.328970Z",
     "shell.execute_reply": "2025-02-08T15:32:48.328158Z"
    },
    "papermill": {
     "duration": 5.642437,
     "end_time": "2025-02-08T15:32:48.330399",
     "exception": false,
     "start_time": "2025-02-08T15:32:42.687962",
     "status": "completed"
    },
    "tags": []
   },
   "outputs": [
    {
     "data": {
      "image/png": "[encoded data removed]",
      "text/plain": [
       "<Figure size 1500x500 with 2 Axes>"
      ]
     },
     "metadata": {},
     "output_type": "display_data"
    }
   ],
   "source": [
    "plot_curve(history_1)"
   ]
  },
  {
   "cell_type": "code",
   "execution_count": 28,
   "id": "d9c11ff7",
   "metadata": {
    "execution": {
     "iopub.execute_input": "2025-02-08T15:32:58.562329Z",
     "iopub.status.busy": "2025-02-08T15:32:58.561717Z",
     "iopub.status.idle": "2025-02-08T15:33:35.860243Z",
     "shell.execute_reply": "2025-02-08T15:33:35.859243Z"
    },
    "papermill": {
     "duration": 42.77608,
     "end_time": "2025-02-08T15:33:36.110041",
     "exception": false,
     "start_time": "2025-02-08T15:32:53.333961",
     "status": "completed"
    },
    "tags": []
   },
   "outputs": [
    {
     "name": "stdout",
     "output_type": "stream",
     "text": [
      "\u001b[1m2500/2500\u001b[0m \u001b[32m━━━━━━━━━━━━━━━━━━━━\u001b[0m\u001b[37m\u001b[0m \u001b[1m36s\u001b[0m 14ms/step\n"
     ]
    },
    {
     "data": {
      "text/plain": [
       "array([[0.01524774],\n",
       "       [1.        ],\n",
       "       [0.99946195],\n",
       "       ...,\n",
       "       [0.5342201 ],\n",
       "       [0.3910474 ],\n",
       "       [0.00712617]], dtype=float32)"
      ]
     },
     "execution_count": 28,
     "metadata": {},
     "output_type": "execute_result"
    }
   ],
   "source": [
    "model_1_pred = model_1.predict(test_dataset)\n",
    "model_1_pred"
   ]
  },
  {
   "cell_type": "code",
   "execution_count": 29,
   "id": "027f160e",
   "metadata": {
    "execution": {
     "iopub.execute_input": "2025-02-08T15:33:46.446622Z",
     "iopub.status.busy": "2025-02-08T15:33:46.446315Z",
     "iopub.status.idle": "2025-02-08T15:33:46.790075Z",
     "shell.execute_reply": "2025-02-08T15:33:46.789263Z"
    },
    "papermill": {
     "duration": 5.352341,
     "end_time": "2025-02-08T15:33:46.791569",
     "exception": false,
     "start_time": "2025-02-08T15:33:41.439228",
     "status": "completed"
    },
    "tags": []
   },
   "outputs": [
    {
     "data": {
      "text/plain": [
       "{'accuracy': 0.804975,\n",
       " 'precision': 0.8004169988348562,\n",
       " 'recall': 0.8138116793236317,\n",
       " 'f1': 0.8070587653343886}"
      ]
     },
     "execution_count": 29,
     "metadata": {},
     "output_type": "execute_result"
    }
   ],
   "source": [
    "calculate_result(y_test, tf.round(model_1_pred))"
   ]
  },
  {
   "cell_type": "code",
   "execution_count": 30,
   "id": "1c7cbffd",
   "metadata": {
    "execution": {
     "iopub.execute_input": "2025-02-08T15:33:57.129920Z",
     "iopub.status.busy": "2025-02-08T15:33:57.129618Z",
     "iopub.status.idle": "2025-02-08T15:33:57.306917Z",
     "shell.execute_reply": "2025-02-08T15:33:57.305964Z"
    },
    "papermill": {
     "duration": 5.225708,
     "end_time": "2025-02-08T15:33:57.308641",
     "exception": false,
     "start_time": "2025-02-08T15:33:52.082933",
     "status": "completed"
    },
    "tags": []
   },
   "outputs": [
    {
     "data": {
      "image/png": "[encoded data removed]",
      "text/plain": [
       "<Figure size 640x480 with 2 Axes>"
      ]
     },
     "metadata": {},
     "output_type": "display_data"
    }
   ],
   "source": [
    "plot_confusion_matrix(y_test, tf.round(model_1_pred))"
   ]
  },
  {
   "cell_type": "markdown",
   "id": "c55e13e9",
   "metadata": {
    "papermill": {
     "duration": 5.244143,
     "end_time": "2025-02-08T15:34:07.672852",
     "exception": false,
     "start_time": "2025-02-08T15:34:02.428709",
     "status": "completed"
    },
    "tags": []
   },
   "source": [
    "Accuracy is 82%, which is good enough\n"
   ]
  },
  {
   "cell_type": "code",
   "execution_count": 31,
   "id": "1d60acec",
   "metadata": {
    "execution": {
     "iopub.execute_input": "2025-02-08T15:34:17.815180Z",
     "iopub.status.busy": "2025-02-08T15:34:17.814849Z",
     "iopub.status.idle": "2025-02-08T16:58:50.133023Z",
     "shell.execute_reply": "2025-02-08T16:58:50.132082Z"
    },
    "papermill": {
     "duration": 5080.476115,
     "end_time": "2025-02-08T16:58:53.202973",
     "exception": false,
     "start_time": "2025-02-08T15:34:12.726858",
     "status": "completed"
    },
    "tags": []
   },
   "outputs": [
    {
     "name": "stdout",
     "output_type": "stream",
     "text": [
      "Epoch 1/5\n",
      "\u001b[1m20000/20000\u001b[0m \u001b[32m━━━━━━━━━━━━━━━━━━━━\u001b[0m\u001b[37m\u001b[0m \u001b[1m1029s\u001b[0m 51ms/step - accuracy: 0.7690 - loss: 0.4711 - val_accuracy: 0.8252 - val_loss: 0.3832 - learning_rate: 0.0010\n",
      "Epoch 2/5\n",
      "\u001b[1m20000/20000\u001b[0m \u001b[32m━━━━━━━━━━━━━━━━━━━━\u001b[0m\u001b[37m\u001b[0m \u001b[1m1012s\u001b[0m 51ms/step - accuracy: 0.8743 - loss: 0.3039 - val_accuracy: 0.8045 - val_loss: 0.4829 - learning_rate: 0.0010\n",
      "Epoch 3/5\n",
      "\u001b[1m20000/20000\u001b[0m \u001b[32m━━━━━━━━━━━━━━━━━━━━\u001b[0m\u001b[37m\u001b[0m \u001b[1m1011s\u001b[0m 51ms/step - accuracy: 0.9166 - loss: 0.2116 - val_accuracy: 0.7997 - val_loss: 0.5613 - learning_rate: 0.0010\n",
      "Epoch 4/5\n",
      "\u001b[1m20000/20000\u001b[0m \u001b[32m━━━━━━━━━━━━━━━━━━━━\u001b[0m\u001b[37m\u001b[0m \u001b[1m1010s\u001b[0m 50ms/step - accuracy: 0.9318 - loss: 0.1748 - val_accuracy: 0.8037 - val_loss: 0.5741 - learning_rate: 0.0010\n",
      "Epoch 5/5\n",
      "\u001b[1m20000/20000\u001b[0m \u001b[32m━━━━━━━━━━━━━━━━━━━━\u001b[0m\u001b[37m\u001b[0m \u001b[1m1011s\u001b[0m 51ms/step - accuracy: 0.9424 - loss: 0.1483 - val_accuracy: 0.8011 - val_loss: 0.7542 - learning_rate: 0.0010\n"
     ]
    }
   ],
   "source": [
    "model_2 = tf.keras.Sequential([\n",
    "    tf.keras.Input(shape = (1,), dtype = tf.string),\n",
    "    text_vectorizer,\n",
    "    Embedding(\n",
    "        input_dim = vocab_size,\n",
    "        output_dim = 128\n",
    "    ),\n",
    "    Conv1D(64, 5, activation = \"relu\"),\n",
    "    GRU(32),\n",
    "    Dense(32, activation = \"relu\"),\n",
    "    Dropout(0.5),\n",
    "    BatchNormalization(),\n",
    "    Dense(1, activation = \"sigmoid\")\n",
    "])\n",
    "\n",
    "model_2.compile(\n",
    "    loss = tf.keras.losses.BinaryCrossentropy(),\n",
    "    optimizer = tf.keras.optimizers.Adam(),\n",
    "    metrics = [\"accuracy\"]\n",
    ")\n",
    "\n",
    "history_2 = model_2.fit(\n",
    "    train_dataset,\n",
    "    epochs = 5,\n",
    "    validation_data = val_dataset,\n",
    "    callbacks=[mc, rlr]\n",
    ")"
   ]
  },
  {
   "cell_type": "code",
   "execution_count": 32,
   "id": "ccce175e",
   "metadata": {
    "execution": {
     "iopub.execute_input": "2025-02-08T16:59:12.335141Z",
     "iopub.status.busy": "2025-02-08T16:59:12.334838Z",
     "iopub.status.idle": "2025-02-08T16:59:12.339084Z",
     "shell.execute_reply": "2025-02-08T16:59:12.338342Z"
    },
    "papermill": {
     "duration": 9.541281,
     "end_time": "2025-02-08T16:59:12.340224",
     "exception": false,
     "start_time": "2025-02-08T16:59:02.798943",
     "status": "completed"
    },
    "tags": []
   },
   "outputs": [
    {
     "name": "stdout",
     "output_type": "stream",
     "text": [
      "hello\n"
     ]
    }
   ],
   "source": [
    "print(\"hello\")"
   ]
  }
 ],
 "metadata": {
  "kaggle": {
   "accelerator": "nvidiaTeslaT4",
   "dataSources": [
    {
     "datasetId": 2477,
     "sourceId": 4140,
     "sourceType": "datasetVersion"
    },
    {
     "datasetId": 6370301,
     "sourceId": 10293048,
     "sourceType": "datasetVersion"
    }
   ],
   "dockerImageVersionId": 30823,
   "isGpuEnabled": true,
   "isInternetEnabled": true,
   "language": "python",
   "sourceType": "notebook"
  },
  "kernelspec": {
   "display_name": "Python 3",
   "language": "python",
   "name": "python3"
  },
  "language_info": {
   "codemirror_mode": {
    "name": "ipython",
    "version": 3
   },
   "file_extension": ".py",
   "mimetype": "text/x-python",
   "name": "python",
   "nbconvert_exporter": "python",
   "pygments_lexer": "ipython3",
   "version": "3.10.12"
  },
  "papermill": {
   "default_parameters": {},
   "duration": 14469.215045,
   "end_time": "2025-02-08T16:59:25.696543",
   "environment_variables": {},
   "exception": null,
   "input_path": "__notebook__.ipynb",
   "output_path": "__notebook__.ipynb",
   "parameters": {},
   "start_time": "2025-02-08T12:58:16.481498",
   "version": "2.6.0"
  }
 },
 "nbformat": 4,
 "nbformat_minor": 5
}
